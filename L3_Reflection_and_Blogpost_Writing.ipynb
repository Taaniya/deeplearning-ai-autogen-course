{
 "cells": [
  {
   "cell_type": "markdown",
   "id": "fc3024e2",
   "metadata": {},
   "source": [
    "# Lesson 3: Reflection and Blogpost Writing\n",
    "In this notebook, we cover the following -\n",
    "* Agent reflection framework & leverage its power to create a high quality blog post\n",
    "* Learn to use nested chat conversation pattern to realize a sophisticated reflection process\n",
    "* Build a system where a set of reviewer agents is nested within a critic agent as inner monologue to reflect on a blog post written by a writer agent"
   ]
  },
  {
   "cell_type": "markdown",
   "id": "3b0cc42f",
   "metadata": {},
   "source": [
    "## Setup"
   ]
  },
  {
   "cell_type": "code",
   "execution_count": 1,
   "id": "96d39be0-eaf3-456d-8613-ba21099ed36b",
   "metadata": {
    "height": 30
   },
   "outputs": [],
   "source": [
    "llm_config = {\"model\": \"gpt-3.5-turbo\"}"
   ]
  },
  {
   "cell_type": "markdown",
   "id": "0969e6bb",
   "metadata": {},
   "source": [
    "## The task!"
   ]
  },
  {
   "cell_type": "code",
   "execution_count": 2,
   "id": "e8074032-3690-4de9-ad08-ea8323cb441b",
   "metadata": {
    "height": 115
   },
   "outputs": [],
   "source": [
    "task = '''\n",
    "        Write a concise but engaging blogpost about\n",
    "       DeepLearning.AI. Make sure the blogpost is\n",
    "       within 100 words.\n",
    "       '''\n"
   ]
  },
  {
   "cell_type": "markdown",
   "id": "1987f023",
   "metadata": {},
   "source": [
    "## Create a writer agent"
   ]
  },
  {
   "cell_type": "code",
   "execution_count": 3,
   "id": "fe0f0a47-a9fe-43a0-b7b1-79922e4c4ac8",
   "metadata": {
    "height": 183
   },
   "outputs": [],
   "source": [
    "import autogen\n",
    "\n",
    "writer = autogen.AssistantAgent(\n",
    "    name=\"Writer\",\n",
    "    system_message=\"You are a writer. You write engaging and concise \" \n",
    "        \"blogpost (with title) on given topics. You must polish your \"\n",
    "        \"writing based on the feedback you receive and give a refined \"\n",
    "        \"version. Only return your final work without additional comments.\",\n",
    "    llm_config=llm_config,\n",
    ")"
   ]
  },
  {
   "cell_type": "code",
   "execution_count": 4,
   "id": "7c7b4d8d-40f7-4a05-8958-25d20054de3a",
   "metadata": {
    "height": 30
   },
   "outputs": [],
   "source": [
    "reply = writer.generate_reply(messages=[{\"content\": task, \"role\": \"user\"}])"
   ]
  },
  {
   "cell_type": "code",
   "execution_count": 5,
   "id": "c501c97d-e338-4f36-a384-6ec45983cf77",
   "metadata": {
    "height": 30
   },
   "outputs": [
    {
     "name": "stdout",
     "output_type": "stream",
     "text": [
      "Title: Unveiling the Power of DeepLearning.AI\n",
      "\n",
      "Embark on a journey into the world of artificial intelligence with DeepLearning.AI. Founded by Andrew Ng, this platform offers top-notch courses on deep learning, empowering learners to master the skills needed to thrive in this cutting-edge field. From neural networks to computer vision, DeepLearning.AI covers it all in an engaging and accessible manner. Whether you're a beginner or an experienced professional looking to upskill, this platform caters to all. Join the ranks of aspiring AI enthusiasts and unleash your potential with DeepLearning.AI today!\n"
     ]
    }
   ],
   "source": [
    "print(reply)"
   ]
  },
  {
   "cell_type": "markdown",
   "id": "49658114",
   "metadata": {},
   "source": [
    "## Adding reflection \n",
    "\n",
    "Create a critic agent to reflect on the work of the writer agent."
   ]
  },
  {
   "cell_type": "code",
   "execution_count": 6,
   "id": "c7fcd1c7-51ec-4915-8e97-bac03565c4c7",
   "metadata": {
    "height": 149
   },
   "outputs": [],
   "source": [
    "critic = autogen.AssistantAgent(\n",
    "    name=\"Critic\",\n",
    "    is_termination_msg=lambda x: x.get(\"content\", \"\").find(\"TERMINATE\") >= 0,\n",
    "    llm_config=llm_config,\n",
    "    system_message=\"You are a critic. You review the work of \"\n",
    "                \"the writer and provide constructive \"\n",
    "                \"feedback to help improve the quality of the content.\",\n",
    ")"
   ]
  },
  {
   "cell_type": "code",
   "execution_count": 7,
   "id": "899d5fdb-6081-470b-b287-8cf8b8142d0d",
   "metadata": {
    "height": 115
   },
   "outputs": [
    {
     "name": "stdout",
     "output_type": "stream",
     "text": [
      "\u001b[33mCritic\u001b[0m (to Writer):\n",
      "\n",
      "\n",
      "        Write a concise but engaging blogpost about\n",
      "       DeepLearning.AI. Make sure the blogpost is\n",
      "       within 100 words.\n",
      "       \n",
      "\n",
      "--------------------------------------------------------------------------------\n",
      "\u001b[33mWriter\u001b[0m (to Critic):\n",
      "\n",
      "Title: Unveiling the Power of DeepLearning.AI\n",
      "\n",
      "Embark on a journey into the world of artificial intelligence with DeepLearning.AI. Founded by Andrew Ng, this platform offers top-notch courses on deep learning, empowering learners to master the skills needed to thrive in this cutting-edge field. From neural networks to computer vision, DeepLearning.AI covers it all in an engaging and accessible manner. Whether you're a beginner or an experienced professional looking to upskill, this platform caters to all. Join the ranks of aspiring AI enthusiasts and unleash your potential with DeepLearning.AI today!\n",
      "\n",
      "--------------------------------------------------------------------------------\n",
      "\u001b[33mCritic\u001b[0m (to Writer):\n",
      "\n",
      "This blog post effectively introduces readers to DeepLearning.AI, highlighting its founder and the comprehensive courses offered. The engaging language and concise structure make it easy to read and understand. To improve, consider adding specific examples of courses or success stories to further illustrate the platform's impact. Additionally, incorporating statistical data on the platform's reach or effectiveness could enhance credibility. Overall, a compelling introduction that could benefit from more concrete details and evidence to support its claims.\n",
      "\n",
      "--------------------------------------------------------------------------------\n",
      "\u001b[33mWriter\u001b[0m (to Critic):\n",
      "\n",
      "Title: Unleashing Potential: A Dive into DeepLearning.AI\n",
      "\n",
      "Delve into the realm of artificial intelligence with DeepLearning.AI, spearheaded by the visionary Andrew Ng. This platform delivers a treasure trove of courses, from neural networks to computer vision, offering a pathway to expertise in this cutting-edge field. Whether diving in as a novice or upskilling as a seasoned professional, DeepLearning.AI caters to all, shaping the AI enthusiasts of tomorrow. Explore success stories of learners who have transformed their careers, backed by statistical data showcasing the platform's immense impact. Join the thriving community at DeepLearning.AI and unlock a world of AI possibilities today!\n",
      "\n",
      "--------------------------------------------------------------------------------\n"
     ]
    }
   ],
   "source": [
    "res = critic.initiate_chat(\n",
    "    recipient=writer,\n",
    "    message=task,\n",
    "    max_turns=2,\n",
    "    summary_method=\"last_msg\"\n",
    ")"
   ]
  },
  {
   "cell_type": "markdown",
   "id": "f42fffcd",
   "metadata": {
    "height": 30
   },
   "source": [
    "Though we see here, the writer refining its blogpost based on critque's suggestions, in many cases when we want to realize even more compact reflection workflow as inner monologue of the critic agent.\n",
    "\n",
    "For e.g., when we want to ensure the critic agent to provide critique regarding certain aspects of work .e.g., whether the content will rank well in the search engines, whether it will attract organic traffic, whether it has ethical, legal problems etc. \n",
    "\n",
    "Next we see, **Nested Chat** to handle this.\n",
    "\n",
    "**Nested chat** is effectively a chat registered as the inner monologue of an agent\n"
   ]
  },
  {
   "cell_type": "markdown",
   "id": "e7b76449",
   "metadata": {},
   "source": [
    "## Nested chat"
   ]
  },
  {
   "cell_type": "code",
   "execution_count": 9,
   "id": "401ecf92-63e9-40ff-aeed-1c404352e4ab",
   "metadata": {
    "height": 200
   },
   "outputs": [],
   "source": [
    "SEO_reviewer = autogen.AssistantAgent(\n",
    "    name=\"SEO Reviewer\",\n",
    "    llm_config=llm_config,\n",
    "    system_message=\"You are an SEO reviewer, known for \"\n",
    "        \"your ability to optimize content for search engines, \"\n",
    "        \"ensuring that it ranks well and attracts organic traffic. \" \n",
    "        \"Make sure your suggestion is concise (within 3 bullet points), \"\n",
    "        \"concrete and to the point. \"\n",
    "        \"Begin the review by stating your role.\",\n",
    ")\n"
   ]
  },
  {
   "cell_type": "code",
   "execution_count": 10,
   "id": "f85acb81-7ab9-4c84-b8bb-6fbae3dce848",
   "metadata": {
    "height": 183
   },
   "outputs": [],
   "source": [
    "legal_reviewer = autogen.AssistantAgent(\n",
    "    name=\"Legal Reviewer\",\n",
    "    llm_config=llm_config,\n",
    "    system_message=\"You are a legal reviewer, known for \"\n",
    "        \"your ability to ensure that content is legally compliant \"\n",
    "        \"and free from any potential legal issues. \"\n",
    "        \"Make sure your suggestion is concise (within 3 bullet points), \"\n",
    "        \"concrete and to the point. \"\n",
    "        \"Begin the review by stating your role.\",\n",
    ")"
   ]
  },
  {
   "cell_type": "code",
   "execution_count": 11,
   "id": "d46a177a-8088-4956-8d2b-3e916b8ca5e9",
   "metadata": {
    "height": 183
   },
   "outputs": [],
   "source": [
    "ethics_reviewer = autogen.AssistantAgent(\n",
    "    name=\"Ethics Reviewer\",\n",
    "    llm_config=llm_config,\n",
    "    system_message=\"You are an ethics reviewer, known for \"\n",
    "        \"your ability to ensure that content is ethically sound \"\n",
    "        \"and free from any potential ethical issues. \" \n",
    "        \"Make sure your suggestion is concise (within 3 bullet points), \"\n",
    "        \"concrete and to the point. \"\n",
    "        \"Begin the review by stating your role. \",\n",
    ")"
   ]
  },
  {
   "cell_type": "code",
   "execution_count": 12,
   "id": "a7b2ad6f-8ba6-436a-9459-14ffbe8a32d3",
   "metadata": {
    "height": 115
   },
   "outputs": [],
   "source": [
    "meta_reviewer = autogen.AssistantAgent(\n",
    "    name=\"Meta Reviewer\",\n",
    "    llm_config=llm_config,\n",
    "    system_message=\"You are a meta reviewer, you aggragate and review \"\n",
    "    \"the work of other reviewers and give a final suggestion on the content.\",\n",
    ")"
   ]
  },
  {
   "cell_type": "markdown",
   "id": "913beca1",
   "metadata": {},
   "source": [
    "## Orchestrate the nested chats to solve the task"
   ]
  },
  {
   "cell_type": "code",
   "execution_count": 13,
   "id": "a11a70c7-19ca-4e5a-ad3d-f2b481fb5915",
   "metadata": {
    "height": 557
   },
   "outputs": [],
   "source": [
    "def reflection_message(recipient, messages, sender, config):\n",
    "    return f'''Review the following content. \n",
    "            \\n\\n {recipient.chat_messages_for_summary(sender)[-1]['content']}'''\n",
    "\n",
    "review_chats = [\n",
    "    {\n",
    "     \"recipient\": SEO_reviewer, \n",
    "     \"message\": reflection_message, \n",
    "     \"summary_method\": \"reflection_with_llm\",\n",
    "     \"summary_args\": {\"summary_prompt\" : \n",
    "        \"Return review into as JSON object only:\"\n",
    "        \"{'Reviewer': '', 'Review': ''}. Here Reviewer should be your role\",},\n",
    "     \"max_turns\": 1},\n",
    "    {\n",
    "    \"recipient\": legal_reviewer, \"message\": reflection_message, \n",
    "     \"summary_method\": \"reflection_with_llm\",\n",
    "     \"summary_args\": {\"summary_prompt\" : \n",
    "        \"Return review into as JSON object only:\"\n",
    "        \"{'Reviewer': '', 'Review': ''}.\",},\n",
    "     \"max_turns\": 1},\n",
    "    {\"recipient\": ethics_reviewer, \"message\": reflection_message, \n",
    "     \"summary_method\": \"reflection_with_llm\",\n",
    "     \"summary_args\": {\"summary_prompt\" : \n",
    "        \"Return review into as JSON object only:\"\n",
    "        \"{'reviewer': '', 'review': ''}\",},\n",
    "     \"max_turns\": 1},\n",
    "     {\"recipient\": meta_reviewer, \n",
    "      \"message\": \"Aggregrate feedback from all reviewers and give final suggestions on the writing.\", \n",
    "     \"max_turns\": 1},\n",
    "]\n"
   ]
  },
  {
   "cell_type": "code",
   "execution_count": 14,
   "id": "b3a40b66-5061-460d-ad9d-c0dbcfbba2e9",
   "metadata": {
    "height": 81
   },
   "outputs": [],
   "source": [
    "critic.register_nested_chats(\n",
    "    review_chats,\n",
    "    trigger=writer,\n",
    ")"
   ]
  },
  {
   "cell_type": "markdown",
   "id": "43b8797d",
   "metadata": {},
   "source": [
    "* By setting `trigger=writer`, in this nested chat, whenever the critic agent **receives** a message from the writer agent, the reflection message is automatically routed to this nested chat session for careful reflection\n" ,
    "* After this registration step, we can now initiate the chat between the critic and the writer\n",
    "**Note**: You might get a slightly different response than what's shown in the video. Feel free to try different task."
   ]
  },
  {
   "cell_type": "code",
   "execution_count": 15,
   "id": "3b8dcac3-1e72-43b7-9d5a-1be740f6efd5",
   "metadata": {
    "height": 115
   },
   "outputs": [
    {
     "name": "stdout",
     "output_type": "stream",
     "text": [
      "\u001b[33mCritic\u001b[0m (to Writer):\n",
      "\n",
      "\n",
      "        Write a concise but engaging blogpost about\n",
      "       DeepLearning.AI. Make sure the blogpost is\n",
      "       within 100 words.\n",
      "       \n",
      "\n",
      "--------------------------------------------------------------------------------\n",
      "\u001b[33mWriter\u001b[0m (to Critic):\n",
      "\n",
      "Title: Unveiling the Power of DeepLearning.AI\n",
      "\n",
      "Embark on a journey into the world of artificial intelligence with DeepLearning.AI. Founded by Andrew Ng, this platform offers top-notch courses on deep learning, empowering learners to master the skills needed to thrive in this cutting-edge field. From neural networks to computer vision, DeepLearning.AI covers it all in an engaging and accessible manner. Whether you're a beginner or an experienced professional looking to upskill, this platform caters to all. Join the ranks of aspiring AI enthusiasts and unleash your potential with DeepLearning.AI today!\n",
      "\n",
      "--------------------------------------------------------------------------------\n",
      "\u001b[34m\n",
      "********************************************************************************\u001b[0m\n",
      "\u001b[34mStarting a new chat....\u001b[0m\n",
      "\u001b[34m\n",
      "********************************************************************************\u001b[0m\n",
      "\u001b[33mCritic\u001b[0m (to SEO Reviewer):\n",
      "\n",
      "Review the following content. \n",
      "            \n",
      "\n",
      " Title: Unveiling the Power of DeepLearning.AI\n",
      "\n",
      "Embark on a journey into the world of artificial intelligence with DeepLearning.AI. Founded by Andrew Ng, this platform offers top-notch courses on deep learning, empowering learners to master the skills needed to thrive in this cutting-edge field. From neural networks to computer vision, DeepLearning.AI covers it all in an engaging and accessible manner. Whether you're a beginner or an experienced professional looking to upskill, this platform caters to all. Join the ranks of aspiring AI enthusiasts and unleash your potential with DeepLearning.AI today!\n",
      "\n",
      "--------------------------------------------------------------------------------\n",
      "\u001b[33mSEO Reviewer\u001b[0m (to Critic):\n",
      "\n",
      "As an SEO reviewer,\n",
      "\n",
      "- Consider adding keywords related to artificial intelligence, online courses, deep learning, Andrew Ng, and upskilling to improve search visibility for the content.\n",
      "- Include internal links to relevant pages within the DeepLearning.AI website to enhance SEO and user navigation.\n",
      "- Ensure meta tags (title, meta description) are optimized with a focus keyword for better search engine ranking.\n",
      "\n",
      "--------------------------------------------------------------------------------\n",
      "\u001b[34m\n",
      "********************************************************************************\u001b[0m\n",
      "\u001b[34mStarting a new chat....\u001b[0m\n",
      "\u001b[34m\n",
      "********************************************************************************\u001b[0m\n",
      "\u001b[33mCritic\u001b[0m (to Legal Reviewer):\n",
      "\n",
      "Review the following content. \n",
      "            \n",
      "\n",
      " Title: Unveiling the Power of DeepLearning.AI\n",
      "\n",
      "Embark on a journey into the world of artificial intelligence with DeepLearning.AI. Founded by Andrew Ng, this platform offers top-notch courses on deep learning, empowering learners to master the skills needed to thrive in this cutting-edge field. From neural networks to computer vision, DeepLearning.AI covers it all in an engaging and accessible manner. Whether you're a beginner or an experienced professional looking to upskill, this platform caters to all. Join the ranks of aspiring AI enthusiasts and unleash your potential with DeepLearning.AI today!\n",
      "Context: \n",
      "{'Reviewer': 'SEO Reviewer', 'Review': 'Content includes relevant information about DeepLearning.AI and its offerings in the field of artificial intelligence. Suggested improvements include adding keywords, internal links, and optimizing meta tags for better search engine optimization.'}\n",
      "\n",
      "--------------------------------------------------------------------------------\n",
      "\u001b[33mLegal Reviewer\u001b[0m (to Critic):\n",
      "\n",
      "As a Legal Reviewer, my role is to ensure the content is legally compliant.\n",
      "\n",
      "1. Ensure that the use of \"top-notch\" to describe courses is supported by evidence and does not create false expectations.\n",
      "2. Review any claims of \"mastering skills\" to ensure they are realistic and not misleading.\n",
      "3. Check for any potential intellectual property infringements related to the use of DeepLearning.AI, including trademark violations or unauthorized use of copyrighted material.\n",
      "\n",
      "--------------------------------------------------------------------------------\n",
      "\u001b[34m\n",
      "********************************************************************************\u001b[0m\n",
      "\u001b[34mStarting a new chat....\u001b[0m\n",
      "\u001b[34m\n",
      "********************************************************************************\u001b[0m\n",
      "\u001b[33mCritic\u001b[0m (to Ethics Reviewer):\n",
      "\n",
      "Review the following content. \n",
      "            \n",
      "\n",
      " Title: Unveiling the Power of DeepLearning.AI\n",
      "\n",
      "Embark on a journey into the world of artificial intelligence with DeepLearning.AI. Founded by Andrew Ng, this platform offers top-notch courses on deep learning, empowering learners to master the skills needed to thrive in this cutting-edge field. From neural networks to computer vision, DeepLearning.AI covers it all in an engaging and accessible manner. Whether you're a beginner or an experienced professional looking to upskill, this platform caters to all. Join the ranks of aspiring AI enthusiasts and unleash your potential with DeepLearning.AI today!\n",
      "Context: \n",
      "{'Reviewer': 'SEO Reviewer', 'Review': 'Content includes relevant information about DeepLearning.AI and its offerings in the field of artificial intelligence. Suggested improvements include adding keywords, internal links, and optimizing meta tags for better search engine optimization.'}\n",
      "{'Reviewer': 'Legal Reviewer', 'Review': 'Ensure that the use of \"top-notch\" to describe courses is supported by evidence and does not create false expectations. Review any claims of \"mastering skills\" to ensure they are realistic and not misleading. Check for any potential intellectual property infringements related to the use of DeepLearning.AI, including trademark violations or unauthorized use of copyrighted material.'}\n",
      "\n",
      "--------------------------------------------------------------------------------\n",
      "\u001b[33mEthics Reviewer\u001b[0m (to Critic):\n",
      "\n",
      "Role: Ethics Reviewer\n",
      "\n",
      "- Ensure that the content does not make any exaggerated claims about the benefits or outcomes of using DeepLearning.AI courses.\n",
      "- Verify that the platform's offerings are accurately described and do not mislead users about the level of expertise they will gain.\n",
      "- Confirm that any statements about the platform's effectiveness in empowering learners are truthful and supported by evidence.\n",
      "\n",
      "--------------------------------------------------------------------------------\n",
      "\u001b[34m\n",
      "********************************************************************************\u001b[0m\n",
      "\u001b[34mStarting a new chat....\u001b[0m\n",
      "\u001b[34m\n",
      "********************************************************************************\u001b[0m\n",
      "\u001b[33mCritic\u001b[0m (to Meta Reviewer):\n",
      "\n",
      "Aggregrate feedback from all reviewers and give final suggestions on the writing.\n",
      "Context: \n",
      "{'Reviewer': 'SEO Reviewer', 'Review': 'Content includes relevant information about DeepLearning.AI and its offerings in the field of artificial intelligence. Suggested improvements include adding keywords, internal links, and optimizing meta tags for better search engine optimization.'}\n",
      "{'Reviewer': 'Legal Reviewer', 'Review': 'Ensure that the use of \"top-notch\" to describe courses is supported by evidence and does not create false expectations. Review any claims of \"mastering skills\" to ensure they are realistic and not misleading. Check for any potential intellectual property infringements related to the use of DeepLearning.AI, including trademark violations or unauthorized use of copyrighted material.'}\n",
      "{'reviewer': 'Ethics Reviewer', 'review': '- Ensure that the content does not make any exaggerated claims about the benefits or outcomes of using DeepLearning.AI courses.\\n- Verify that the platform\\'s offerings are accurately described and do not mislead users about the level of expertise they will gain.\\n- Confirm that any statements about the platform\\'s effectiveness in empowering learners are truthful and supported by evidence.'}\n",
      "\n",
      "--------------------------------------------------------------------------------\n"
     ]
    },
    {
     "name": "stdout",
     "output_type": "stream",
     "text": [
      "\u001b[33mMeta Reviewer\u001b[0m (to Critic):\n",
      "\n",
      "Aggregated Feedback:\n",
      "- SEO Reviewer suggests adding keywords, internal links, and optimizing meta tags for better search engine optimization.\n",
      "- Legal Reviewer recommends verifying the use of \"top-notch\" and claims of \"mastering skills\" for accuracy and avoiding intellectual property infringements.\n",
      "- Ethics Reviewer emphasizes avoiding exaggerated claims, ensuring accurate descriptions of offerings, and providing truthful evidence to support statements about the platform's effectiveness.\n",
      "\n",
      "Final Suggestions:\n",
      "1. Incorporate relevant keywords, internal links, and optimize meta tags to improve SEO.\n",
      "2. Review and potentially revise language like \"top-notch\" and claims of skill mastery for accuracy.\n",
      "3. Ensure no intellectual property infringements related to DeepLearning.AI's use.\n",
      "4. Avoid exaggerated claims about benefits and outcomes of using the courses.\n",
      "5. Provide accurate descriptions of the platform's offerings to avoid misleading users.\n",
      "6. Support statements about the platform's effectiveness with evidence.\n",
      "\n",
      "Incorporating these suggestions will help enhance the content's quality, credibility, and user experience.\n",
      "\n",
      "--------------------------------------------------------------------------------\n",
      "\u001b[33mCritic\u001b[0m (to Writer):\n",
      "\n",
      "Aggregated Feedback:\n",
      "- SEO Reviewer suggests adding keywords, internal links, and optimizing meta tags for better search engine optimization.\n",
      "- Legal Reviewer recommends verifying the use of \"top-notch\" and claims of \"mastering skills\" for accuracy and avoiding intellectual property infringements.\n",
      "- Ethics Reviewer emphasizes avoiding exaggerated claims, ensuring accurate descriptions of offerings, and providing truthful evidence to support statements about the platform's effectiveness.\n",
      "\n",
      "Final Suggestions:\n",
      "1. Incorporate relevant keywords, internal links, and optimize meta tags to improve SEO.\n",
      "2. Review and potentially revise language like \"top-notch\" and claims of skill mastery for accuracy.\n",
      "3. Ensure no intellectual property infringements related to DeepLearning.AI's use.\n",
      "4. Avoid exaggerated claims about benefits and outcomes of using the courses.\n",
      "5. Provide accurate descriptions of the platform's offerings to avoid misleading users.\n",
      "6. Support statements about the platform's effectiveness with evidence.\n",
      "\n",
      "Incorporating these suggestions will help enhance the content's quality, credibility, and user experience.\n",
      "\n",
      "--------------------------------------------------------------------------------\n",
      "\u001b[33mWriter\u001b[0m (to Critic):\n",
      "\n",
      "Title: Unraveling the Potential of DeepLearning.AI\n",
      "\n",
      "Dive into the realm of artificial intelligence with DeepLearning.AI, a platform curated by Andrew Ng. Offering comprehensive courses on deep learning, it equips learners with essential skills for the AI domain. From neural networks to computer vision, DeepLearning.AI covers diverse topics accessible to all skill levels. Whether you're a novice or a seasoned professional, this platform caters to your learning needs. Embrace the opportunities that DeepLearning.AI presents to enhance your AI expertise and stay ahead in this ever-evolving field!\n",
      "\n",
      "--------------------------------------------------------------------------------\n"
     ]
    }
   ],
   "source": [
    "res = critic.initiate_chat(\n",
    "    recipient=writer,\n",
    "    message=task,\n",
    "    max_turns=2,\n",
    "    summary_method=\"last_msg\"\n",
    ")"
   ]
  },
  {
   "cell_type": "markdown",
   "id": "c5c833b0",
   "metadata": {},
   "source": [
    "## Get the summary"
   ]
  },
  {
   "cell_type": "code",
   "execution_count": 17,
   "id": "68ef82ed-f102-4964-b7be-60e2f258a39b",
   "metadata": {
    "height": 30
   },
   "outputs": [
    {
     "name": "stdout",
     "output_type": "stream",
     "text": [
      "Title: Unraveling the Potential of DeepLearning.AI\n",
      "\n",
      "Dive into the realm of artificial intelligence with DeepLearning.AI, a platform curated by Andrew Ng. Offering comprehensive courses on deep learning, it equips learners with essential skills for the AI domain. From neural networks to computer vision, DeepLearning.AI covers diverse topics accessible to all skill levels. Whether you're a novice or a seasoned professional, this platform caters to your learning needs. Embrace the opportunities that DeepLearning.AI presents to enhance your AI expertise and stay ahead in this ever-evolving field!\n"
     ]
    }
   ],
   "source": [
    "print(res.summary)"
   ]
  }
 ],
 "metadata": {
  "kernelspec": {
   "display_name": "Python 3 (ipykernel)",
   "language": "python",
   "name": "python3"
  },
  "language_info": {
   "codemirror_mode": {
    "name": "ipython",
    "version": 3
   },
   "file_extension": ".py",
   "mimetype": "text/x-python",
   "name": "python",
   "nbconvert_exporter": "python",
   "pygments_lexer": "ipython3",
   "version": "3.11.9"
  }
 },
 "nbformat": 4,
 "nbformat_minor": 5
}
