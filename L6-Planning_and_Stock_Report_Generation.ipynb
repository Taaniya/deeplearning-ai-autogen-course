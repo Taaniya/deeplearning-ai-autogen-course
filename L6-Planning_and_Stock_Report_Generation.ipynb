{
 "cells": [
  {
   "cell_type": "markdown",
   "id": "0b9a3d83",
   "metadata": {},
   "source": [
    "# Lesson 6: Planning and Stock Report Generation"
   ]
  },
  {
   "cell_type": "markdown",
   "id": "61b8ba0b",
   "metadata": {
    "height": 30
   },
   "source": [
    "* In this notebook, we dive deeper into multi-agent group chats and build a custom group chat that collaborates to generate a detailed report and stocks performance over the past month\n",
    "* Finishing this complex task involves planning, which is realized by including a planning agent in the group chat\n",
    "* We’ll also learn how to customize speaker’s transition into group chat\n"
   ]
  },
  {
   "cell_type": "markdown",
   "id": "8d5f1491",
   "metadata": {},
   "source": [
    "## Setup"
   ]
  },
  {
   "cell_type": "code",
   "execution_count": 3,
   "id": "ad72cb6c-a916-40f7-960c-501c6309037f",
   "metadata": {
    "height": 30
   },
   "outputs": [],
   "source": [
    "llm_config={\"model\": \"gpt-4-turbo\"}"
   ]
  },
  {
   "cell_type": "markdown",
   "id": "d09b03c3",
   "metadata": {},
   "source": [
    "## The task!"
   ]
  },
  {
   "cell_type": "code",
   "execution_count": 4,
   "id": "01c1772f-2583-4c7a-a8a0-dd2946eea022",
   "metadata": {
    "height": 47
   },
   "outputs": [],
   "source": [
    "task = \"Write a blogpost about the stock price performance of \"\\\n",
    "\"Nvidia in the past month. Today's date is 2024-04-23.\""
   ]
  },
  {
   "cell_type": "markdown",
   "id": "be3ca91b",
   "metadata": {},
   "source": [
    "## Build a group chat\n",
    "\n",
    "This group chat will include these agents:\n",
    "\n",
    "1. **User_proxy** or **Admin**: to allow the user to comment on the report and ask the writer to refine it.\n",
    "2. **Planner**: to determine relevant information needed to complete the task.\n",
    "3. **Engineer**: to write code using the defined plan by the planner.\n",
    "4. **Executor**: to execute the code written by the engineer.\n",
    "5. **Writer**: to write the report."
   ]
  },
  {
   "cell_type": "code",
   "execution_count": 5,
   "id": "bd7befab-9487-4c50-8eca-1e2e30dbf7d6",
   "metadata": {
    "height": 30
   },
   "outputs": [],
   "source": [
    "import autogen"
   ]
  },
  {
   "cell_type": "markdown",
   "id": "92adcabe",
   "metadata": {
    "height": 30
   },
   "source": [
    "Initially we need a user proxy agent that can send other agents about this initial task. `human_input mode` is set to **ALWAYS**.\n",
    "So, this agent will always ask for human input when it is its turn to speak. And if the human skips the input, it will send instructions to some writer to agent to refine the blog post.\n"
   ]
  },
  {
   "cell_type": "code",
   "execution_count": 6,
   "id": "3258cb72-cb74-4eab-a387-ee409baf4947",
   "metadata": {
    "height": 149
   },
   "outputs": [],
   "source": [
    "user_proxy = autogen.ConversableAgent(\n",
    "    name=\"Admin\",\n",
    "    system_message=\"Give the task, and send \"\n",
    "    \"instructions to writer to refine the blog post.\",\n",
    "    code_execution_config=False,\n",
    "    llm_config=llm_config,\n",
    "    human_input_mode=\"ALWAYS\",\n",
    ")"
   ]
  },
  {
   "cell_type": "markdown",
   "id": "7d73d0cb",
   "metadata": {
    "height": 96
   },
   "source": [
    "Since this is a complex task, we’ll need a planning agent to decompose the task to simpler, smaller tasks and send those sub-tasks to other agents to solve them."
   ]
  },
  {
   "cell_type": "code",
   "execution_count": 7,
   "id": "0832b856-f13d-4e16-b61f-69eb23e0ae71",
   "metadata": {
    "height": 285
   },
   "outputs": [],
   "source": [
    "planner = autogen.ConversableAgent(\n",
    "    name=\"Planner\",\n",
    "    system_message=\"Given a task, please determine \"\n",
    "    \"what information is needed to complete the task. \"\n",
    "    \"Please note that the information will all be retrieved using\"\n",
    "    \" Python code. Please only suggest information that can be \"\n",
    "    \"retrieved using Python code. \"\n",
    "    \"After each step is done by others, check the progress and \"\n",
    "    \"instruct the remaining steps. If a step fails, try to \"\n",
    "    \"workaround\",\n",
    "    description=\"Planner. Given a task, determine what \"\n",
    "    \"information is needed to complete the task. \"\n",
    "    \"After each step is done by others, check the progress and \"\n",
    "    \"instruct the remaining steps\",\n",
    "    llm_config=llm_config,\n",
    ")"
   ]
  },
  {
   "cell_type": "markdown",
   "id": "ede3040e",
   "metadata": {
    "height": 64
   },
   "source": [
    "We've Also added field – `description`.\n",
    "\n",
    "The description and system message differ from each other in the following way. \n",
    "\n",
    "The `system message` is an instruction telling the agent only & something that only this agent needs to know.\n",
    "\n",
    "Whereas `description` is visible to other agents. This way, we’re letting the other  agents know about the role of this agent.\n",
    "\n"
   ]
  },
  {
   "cell_type": "code",
   "execution_count": 8,
   "id": "2427f55d-fb7b-4f3c-85d4-dcd35547b397",
   "metadata": {
    "height": 115
   },
   "outputs": [],
   "source": [
    "engineer = autogen.AssistantAgent(\n",
    "    name=\"Engineer\",\n",
    "    llm_config=llm_config,\n",
    "    description=\"An engineer that writes code based on the plan \"\n",
    "    \"provided by the planner.\",\n",
    ")"
   ]
  },
  {
   "cell_type": "markdown",
   "id": "429ed9f1",
   "metadata": {},
   "source": [
    "**Note**: In this lesson, you'll use an alternative method of code execution by providing a dict config. However, you can always use the LocalCommandLineCodeExecutor if you prefer. For more details about code_execution_config, check this: https://microsoft.github.io/autogen/docs/reference/agentchat/conversable_agent/#__init__"
   ]
  },
  {
   "cell_type": "code",
   "execution_count": 9,
   "id": "040ac21f-b4bf-4bd6-ac58-fdb2c8f8de14",
   "metadata": {
    "height": 200
   },
   "outputs": [],
   "source": [
    "executor = autogen.ConversableAgent(\n",
    "    name=\"Executor\",\n",
    "    system_message=\"Execute the code written by the \"\n",
    "    \"engineer and report the result.\",\n",
    "    human_input_mode=\"NEVER\",\n",
    "    code_execution_config={\n",
    "        \"last_n_messages\": 3,\n",
    "        \"work_dir\": \"coding\",\n",
    "        \"use_docker\": False,\n",
    "    },\n",
    ")"
   ]
  },
  {
   "cell_type": "markdown",
   "id": "9c71a120",
   "metadata": {
    "height": 79
   },
   "source": [
    "config `last_n_messages` means that this agent will look back last 3 messages in history and find the 1st message containing the code in backward order and execute the code.\n"
   ]
  },
  {
   "cell_type": "code",
   "execution_count": 11,
   "id": "d6367fb4-a81b-411c-a339-8dd3d1d41483",
   "metadata": {
    "height": 200
   },
   "outputs": [],
   "source": [
    "writer = autogen.ConversableAgent(\n",
    "    name=\"Writer\",\n",
    "    llm_config=llm_config,\n",
    "    system_message=\"Writer.\"\n",
    "    \"Please write blogs in markdown format (with relevant titles)\"\n",
    "    \" and put the content in pseudo ```md``` code block. \"\n",
    "    \"You take feedback from the admin and refine your blog.\",\n",
    "    description=\"Writer.\"\n",
    "    \"Write blogs based on the code execution results and take \"\n",
    "    \"feedback from the admin to refine the blog.\"\n",
    ")"
   ]
  },
  {
   "cell_type": "markdown",
   "id": "a2ea86b5",
   "metadata": {},
   "source": [
    "## Define the group chat"
   ]
  },
  {
   "cell_type": "code",
   "execution_count": 12,
   "id": "cbf3c4b7-d4b8-4f97-8a25-e23107904ad5",
   "metadata": {
    "height": 98
   },
   "outputs": [],
   "source": [
    "groupchat = autogen.GroupChat(\n",
    "    agents=[user_proxy, engineer, writer, executor, planner],\n",
    "    messages=[],\n",
    "    max_round=10,\n",
    ")"
   ]
  },
  {
   "cell_type": "code",
   "execution_count": 13,
   "id": "bfcabc20-9316-45b7-852d-42e14550a956",
   "metadata": {
    "height": 81
   },
   "outputs": [],
   "source": [
    "manager = autogen.GroupChatManager(\n",
    "    groupchat=groupchat, llm_config=llm_config\n",
    ")\n"
   ]
  },
  {
   "cell_type": "markdown",
   "id": "b51eaffa",
   "metadata": {},
   "source": [
    "## Start the group chat!"
   ]
  },
  {
   "cell_type": "markdown",
   "id": "5dd69615",
   "metadata": {},
   "source": [
    "<p style=\"background-color:#ECECEC; padding:15px; \"> <b>Note:</b> In this lesson, you will use GPT 4 for better results. Please note that the lesson has a quota limit. If you want to explore the code in this lesson further, we recommend trying it locally with your own API key."
   ]
  },
  {
   "cell_type": "markdown",
   "id": "623bae76",
   "metadata": {
    "height": 30
   },
   "source": [
    "Chat flow -\n",
    "\n",
    "User proxy initiates chat with chat manager. The chat manager will broadcast this to every agent.\n",
    "\n",
    "Then chat manager will decide which agent will speak next based on their role and description, current history.\n"
   ]
  },
  {
   "cell_type": "code",
   "execution_count": 14,
   "id": "a9899e8f-2971-487c-9d0e-932c36b3b75a",
   "metadata": {
    "height": 81
   },
   "outputs": [
    {
     "name": "stdout",
     "output_type": "stream",
     "text": [
      "\u001b[33mAdmin\u001b[0m (to chat_manager):\n",
      "\n",
      "Write a blogpost about the stock price performance of Nvidia in the past month. Today's date is 2024-04-23.\n",
      "\n",
      "--------------------------------------------------------------------------------\n",
      "\u001b[31m\n",
      ">>>>>>>> USING AUTO REPLY...\u001b[0m\n",
      "\u001b[33mPlanner\u001b[0m (to chat_manager):\n",
      "\n",
      "To accomplish the task of writing a blog post about Nvidia’s stock price performance over the past month, you would need to gather the following information using Python:\n",
      "\n",
      "1. **Historical Stock Prices for Nvidia** - Collect daily closing prices of Nvidia stock from March 23, 2024, to April 23, 2024.\n",
      "2. **Analysis of Stock Price Trends** - Calculate statistical data like the maximum, minimum, average, and changes in the stock price over the specified period.\n",
      "3. **Comparison with Market Trends** - Optionally compare Nvidia's performance with major market indices (e.g., S&P 500) during the same period to highlight how Nvidia's performance aligns with or diverges from the broader market.\n",
      "4. **Current News or Events Impacting Nvidia** - Retrieve any critical news events in the past month that could have influenced the stock's performance, such as product launches, earnings reports, or other corporate announcements.\n",
      "\n",
      "Steps to proceed:\n",
      "\n",
      "1. **Retrieve the Historical Data**:\n",
      "   - Use a Python library like `yfinance` to get the historical stock prices for Nvidia.\n",
      "   - Process this data to compute the relevant statistics (max, min, average, change).\n",
      "\n",
      "2. **Assess Market Trends**:\n",
      "   - If desired, obtain the historical data for a major market index for the same period and calculate similar statistical measures.\n",
      "\n",
      "3. **Gather Relevant News**:\n",
      "   - Use a news API to fetch important news regarding Nvidia in the last month.\n",
      "\n",
      "4. **Draft the Blog Post**:\n",
      "   - Use the information gathered and analyzed to write a comprehensive blog post.\n",
      "\n",
      "Please begin with Step 1 by collecting historical stock prices for Nvidia using Python.\n",
      "\n",
      "--------------------------------------------------------------------------------\n",
      "\u001b[33mEngineer\u001b[0m (to chat_manager):\n",
      "\n",
      "Please execute the following Python script to retrieve the historical stock prices for Nvidia from March 23, 2024, to April 23, 2024. This script utilizes the `yfinance` library, so make sure it's installed in your Python environment or you can install it using `pip install yfinance` before running the script.\n",
      "\n",
      "```python\n",
      "# filename: fetch_nvidia_stock_data.py\n",
      "import yfinance as yf\n",
      "import pandas as pd\n",
      "\n",
      "# Define the ticker symbol for Nvidia\n",
      "ticker_symbol = \"NVDA\"\n",
      "\n",
      "# Define the start and end dates for the past month\n",
      "start_date = \"2024-03-23\"\n",
      "end_date = \"2024-04-23\"\n",
      "\n",
      "# Fetch historical stock data for Nvidia\n",
      "nvidia_data = yf.download(ticker_symbol, start=start_date, end=end_date)\n",
      "\n",
      "# Selecting only the 'Close' column which represents the daily closing stock prices\n",
      "nvidia_closing_prices = nvidia_data['Close']\n",
      "\n",
      "# Printing the closing prices for review\n",
      "print(nvidia_closing_prices)\n",
      "```\n",
      "\n",
      "This code will print out the daily closing prices for Nvidia's stock between March 23, 2024, and April 23, 2024. Please execute the script, and then return with the output.\n",
      "\n",
      "\n",
      "--------------------------------------------------------------------------------\n",
      "\u001b[31m\n",
      ">>>>>>>> EXECUTING CODE BLOCK 0 (inferred language is python)...\u001b[0m\n",
      "\u001b[33mExecutor\u001b[0m (to chat_manager):\n",
      "\n",
      "exitcode: 0 (execution succeeded)\n",
      "Code output: \n",
      "Series([], Name: Close, dtype: float64)\n",
      "\n",
      "\n",
      "--------------------------------------------------------------------------------\n",
      "\u001b[31m\n",
      ">>>>>>>> USING AUTO REPLY...\u001b[0m\n",
      "\u001b[33mPlanner\u001b[0m (to chat_manager):\n",
      "\n",
      "It appears that there is no available historical stock price data for Nvidia for the specified date range as the output is empty. This might be due to several reasons including data access limitations or the dataset not being updated in real-time in certain APIs.\n",
      "\n",
      "As a workaround, we can either:\n",
      "\n",
      "1. **Adjust the Date Range**: Try adjusting the date range slightly backward or forward to confirm if there is any available data surrounding those dates.\n",
      "2. **Try an Alternative Data Source**: If possible, use another financial data provider or API to check if they have the relevant stock price data for Nvidia for the requested time period.\n",
      "\n",
      "Could you please try one of these options and see if we can retrieve the necessary data? Adjusting the date range or using an alternative data source should help us proceed with the task.\n",
      "\n",
      "--------------------------------------------------------------------------------\n",
      "\u001b[33mEngineer\u001b[0m (to chat_manager):\n",
      "\n",
      "Let's proceed with adjusting the date range and attempting to fetch data once again. This could help us ascertain if the absence of data was due to the specific time period requested initially or a broader issue with data availability. \n",
      "\n",
      "Please execute the modified Python script below, which requests data from a slightly earlier period. If data is still not accessible, this might indicate a need to explore alternative sources or methods.\n",
      "\n",
      "```python\n",
      "# filename: fetch_adjusted_nvidia_stock_data.py\n",
      "import yfinance as yf\n",
      "import pandas as pd\n",
      "\n",
      "# Define the ticker symbol for Nvidia\n",
      "ticker_symbol = \"NVDA\"\n",
      "\n",
      "# Adjust the start and end dates to check for data availability\n",
      "start_date = \"2024-03-20\"\n",
      "end_date = \"2024-04-20\"\n",
      "\n",
      "# Fetch historical stock data for Nvidia\n",
      "nvidia_data = yf.download(ticker_symbol, start=start_date, end=end_date)\n",
      "\n",
      "# Selecting only the 'Close' column which represents the daily closing stock prices\n",
      "nvidia_closing_prices = nvidia_data['Close']\n",
      "\n",
      "# Printing the closing prices for review\n",
      "print(nvidia_closing_prices)\n",
      "```\n",
      "\n",
      "This code attempts to fetch and print the closing prices of Nvidia's stock from March 20, 2024, to April 20, 2024. Please run the script and provide the output.\n",
      "\n",
      "--------------------------------------------------------------------------------\n",
      "\u001b[31m\n",
      ">>>>>>>> EXECUTING CODE BLOCK 0 (inferred language is python)...\u001b[0m\n",
      "\u001b[33mExecutor\u001b[0m (to chat_manager):\n",
      "\n",
      "exitcode: 0 (execution succeeded)\n",
      "Code output: \n",
      "Series([], Name: Close, dtype: float64)\n",
      "\n",
      "\n",
      "--------------------------------------------------------------------------------\n",
      "\u001b[31m\n",
      ">>>>>>>> USING AUTO REPLY...\u001b[0m\n",
      "\u001b[33mPlanner\u001b[0m (to chat_manager):\n",
      "\n",
      "The absence of data for Nvidia stock prices persists even after adjusting the date range. This suggests that the issue might be related to the data availability in the `yfinance` API for this specific time period or it might be experiencing delays in updating the database for new dates.\n",
      "\n",
      "To continue with the task of analyzing Nvidia's stock performance for the blog post, let's consider using an alternative data source. Here are a few options:\n",
      "\n",
      "1. **Alpha Vantage**: This is another stock market data API that could have the necessary data.\n",
      "2. **Quandl**: Known for financial, economic, and alternative datasets.\n",
      "3. **Other Financial Data Providers**: Such as Bloomberg, Google Finance (limited to personal use), or IEX Cloud, depending on access and APIs available.\n",
      "\n",
      "Please attempt to access Nvidia's stock data using one of these alternatives or any other reliable financial data source you have access to. Adjust your steps accordingly depending on the new data source interface and check back with the acquired data.\n",
      "\n",
      "--------------------------------------------------------------------------------\n",
      "\u001b[33mEngineer\u001b[0m (to chat_manager):\n",
      "\n",
      "Unfortunately, as I cannot directly access the web or external databases, my assistance is limited to advising the process. Here's a plan you can follow using another data provider, specifically focusing on Alpha Vantage, which is widely used and provides comprehensive financial data through a well-documented API. \n",
      "\n",
      "### Instructions for Using Alpha Vantage to Fetch Nvidia's Stock Data:\n",
      "\n",
      "1. **Sign Up and API Key**:\n",
      "   - Visit the Alpha Vantage website and sign up for a free API key if you haven't already.\n",
      "\n",
      "2. **Install Alpha Vantage Python Client**:\n",
      "   - Install the Python client for Alpha Vantage by running `pip install alpha_vantage`.\n",
      "\n",
      "3. **Write and Execute a Python Script**:\n",
      "   - Use the following Python code to fetch the stock data. Replace `'YOUR_API_KEY'` with your actual Alpha Vantage API key.\n",
      "\n",
      "```python\n",
      "# filename: fetch_nvidia_alpha_vantage.py\n",
      "from alpha_vantage.timeseries import TimeSeries\n",
      "import pandas as pd\n",
      "\n",
      "# Initialize TimeSeries with your Alpha Vantage API Key\n",
      "ts = TimeSeries(key='YOUR_API_KEY', output_format='pandas')\n",
      "\n",
      "# Define the ticker symbol for Nvidia\n",
      "ticker_symbol = \"NVDA\"\n",
      "\n",
      "# Get the daily stock data\n",
      "data, meta_data = ts.get_daily(symbol=ticker_symbol, outputsize='full')\n",
      "\n",
      "# Select data from the last month\n",
      "recent_data = data['2024-03-23':'2024-04-23']['4. close']  # Adjust dates if necessary\n",
      "\n",
      "# Print the recent closing prices\n",
      "print(recent_data)\n",
      "```\n",
      "\n",
      "4. **Check Output and Proceed**:\n",
      "   - Execute the provided Python script to retrieve and print Nvidia's stock data within the desired date range.\n",
      "   - Based on the data retrieved, you can then proceed to perform any statistical analysis and craft the blog post as initially planned.\n",
      "\n",
      "Please proceed with these instructions to attempt to retrieve the Nvidia stock data using Alpha Vantage. Once you have the data, you can analyze trends and any other specific details needed for the blog post. If issues persist with this method, it might be beneficial to consider even broader changes or seeking help from those with access to commercial financial data services.\n",
      "\n"
     ]
    },
    {
     "name": "stdout",
     "output_type": "stream",
     "text": [
      "\n",
      "--------------------------------------------------------------------------------\n",
      "\u001b[31m\n",
      ">>>>>>>> EXECUTING CODE BLOCK 0 (inferred language is python)...\u001b[0m\n",
      "\u001b[33mExecutor\u001b[0m (to chat_manager):\n",
      "\n",
      "exitcode: 1 (execution failed)\n",
      "Code output: \n",
      "Traceback (most recent call last):\n",
      "  File \"fetch_nvidia_alpha_vantage.py\", line 15, in <module>\n",
      "    recent_data = data['2024-03-23':'2024-04-23']['4. close']  # Adjust dates if necessary\n",
      "                  ~~~~^^^^^^^^^^^^^^^^^^^^^^^^^^^\n",
      "  File \"/usr/local/lib/python3.11/site-packages/pandas/core/frame.py\", line 4085, in __getitem__\n",
      "    return self._getitem_slice(key)\n",
      "           ^^^^^^^^^^^^^^^^^^^^^^^^\n",
      "  File \"/usr/local/lib/python3.11/site-packages/pandas/core/generic.py\", line 4349, in _getitem_slice\n",
      "    slobj = self.index._convert_slice_indexer(key, kind=\"getitem\")\n",
      "            ^^^^^^^^^^^^^^^^^^^^^^^^^^^^^^^^^^^^^^^^^^^^^^^^^^^^^^\n",
      "  File \"/usr/local/lib/python3.11/site-packages/pandas/core/indexes/base.py\", line 4281, in _convert_slice_indexer\n",
      "    indexer = self.slice_indexer(start, stop, step)\n",
      "              ^^^^^^^^^^^^^^^^^^^^^^^^^^^^^^^^^^^^^\n",
      "  File \"/usr/local/lib/python3.11/site-packages/pandas/core/indexes/datetimes.py\", line 697, in slice_indexer\n",
      "    raise KeyError(\n",
      "KeyError: 'Value based partial slicing on non-monotonic DatetimeIndexes with non-existing keys is not allowed.'\n",
      "\n",
      "\n",
      "--------------------------------------------------------------------------------\n"
     ]
    }
   ],
   "source": [
    "groupchat_result = user_proxy.initiate_chat(\n",
    "    manager,\n",
    "    message=task,\n",
    ")"
   ]
  },
  {
   "cell_type": "markdown",
   "id": "ba5d14b6",
   "metadata": {},
   "source": [
    "So, during this conversation, all the agents are triggered automatically by the group chat manager and following the pre-defined roles and descriptions. The roles and descriptions need to be carefully designed to make sure they can follow the right order.\n",
    "\n",
    "We can also add constraints on order of triggering an agent in this task using allowed or disallowed speaker transitions below.\n",
    "\n",
    "## Add a speaker selection policy"
   ]
  },
  {
   "cell_type": "code",
   "execution_count": 15,
   "id": "c17e5a76-3c40-4e2a-b8f1-378f901f5b74",
   "metadata": {
    "height": 965
   },
   "outputs": [],
   "source": [
    "user_proxy = autogen.ConversableAgent(\n",
    "    name=\"Admin\",\n",
    "    system_message=\"Give the task, and send \"\n",
    "    \"instructions to writer to refine the blog post.\",\n",
    "    code_execution_config=False,\n",
    "    llm_config=llm_config,\n",
    "    human_input_mode=\"ALWAYS\",\n",
    ")\n",
    "\n",
    "planner = autogen.ConversableAgent(\n",
    "    name=\"Planner\",\n",
    "    system_message=\"Given a task, please determine \"\n",
    "    \"what information is needed to complete the task. \"\n",
    "    \"Please note that the information will all be retrieved using\"\n",
    "    \" Python code. Please only suggest information that can be \"\n",
    "    \"retrieved using Python code. \"\n",
    "    \"After each step is done by others, check the progress and \"\n",
    "    \"instruct the remaining steps. If a step fails, try to \"\n",
    "    \"workaround\",\n",
    "    description=\"Given a task, determine what \"\n",
    "    \"information is needed to complete the task. \"\n",
    "    \"After each step is done by others, check the progress and \"\n",
    "    \"instruct the remaining steps\",\n",
    "    llm_config=llm_config,\n",
    ")\n",
    "\n",
    "engineer = autogen.AssistantAgent(\n",
    "    name=\"Engineer\",\n",
    "    llm_config=llm_config,\n",
    "    description=\"Write code based on the plan \"\n",
    "    \"provided by the planner.\",\n",
    ")\n",
    "\n",
    "writer = autogen.ConversableAgent(\n",
    "    name=\"Writer\",\n",
    "    llm_config=llm_config,\n",
    "    system_message=\"Writer. \"\n",
    "    \"Please write blogs in markdown format (with relevant titles)\"\n",
    "    \" and put the content in pseudo ```md``` code block. \"\n",
    "    \"You take feedback from the admin and refine your blog.\",\n",
    "    description=\"After all the info is available, \"\n",
    "    \"write blogs based on the code execution results and take \"\n",
    "    \"feedback from the admin to refine the blog. \",\n",
    ")\n",
    "\n",
    "executor = autogen.ConversableAgent(\n",
    "    name=\"Executor\",\n",
    "    description=\"Execute the code written by the \"\n",
    "    \"engineer and report the result.\",\n",
    "    human_input_mode=\"NEVER\",\n",
    "    code_execution_config={\n",
    "        \"last_n_messages\": 3,\n",
    "        \"work_dir\": \"coding\",\n",
    "        \"use_docker\": False,\n",
    "    },\n",
    ")"
   ]
  },
  {
   "cell_type": "code",
   "execution_count": 16,
   "id": "d1ea0a1b-78f9-4be3-9479-228d6e679268",
   "metadata": {
    "height": 234
   },
   "outputs": [],
   "source": [
    "groupchat = autogen.GroupChat(\n",
    "    agents=[user_proxy, engineer, writer, executor, planner],\n",
    "    messages=[],\n",
    "    max_round=10,\n",
    "    allowed_or_disallowed_speaker_transitions={\n",
    "        user_proxy: [engineer, writer, executor, planner],\n",
    "        engineer: [user_proxy, executor],\n",
    "        writer: [user_proxy, planner],\n",
    "        executor: [user_proxy, engineer, planner],\n",
    "        planner: [user_proxy, engineer, writer],\n",
    "    },\n",
    "    speaker_transitions_type=\"allowed\",\n",
    ")"
   ]
  },
  {
   "cell_type": "code",
   "execution_count": 17,
   "id": "a62255bb-644f-4af6-a640-08297e55de45",
   "metadata": {
    "height": 149
   },
   "outputs": [
    {
     "name": "stdout",
     "output_type": "stream",
     "text": [
      "\u001b[33mAdmin\u001b[0m (to chat_manager):\n",
      "\n",
      "Write a blogpost about the stock price performance of Nvidia in the past month. Today's date is 2024-04-23.\n",
      "\n",
      "--------------------------------------------------------------------------------\n",
      "\u001b[31m\n",
      ">>>>>>>> USING AUTO REPLY...\u001b[0m\n",
      "\u001b[33mPlanner\u001b[0m (to chat_manager):\n",
      "\n",
      "To accomplish the task of writing a blog post about Nvidia’s stock price performance over the past month, you would need to gather the following information using Python:\n",
      "\n",
      "1. **Historical Stock Prices for Nvidia** - Collect daily closing prices of Nvidia stock from March 23, 2024, to April 23, 2024.\n",
      "2. **Analysis of Stock Price Trends** - Calculate statistical data like the maximum, minimum, average, and changes in the stock price over the specified period.\n",
      "3. **Comparison with Market Trends** - Optionally compare Nvidia's performance with major market indices (e.g., S&P 500) during the same period to highlight how Nvidia's performance aligns with or diverges from the broader market.\n",
      "4. **Current News or Events Impacting Nvidia** - Retrieve any critical news events in the past month that could have influenced the stock's performance, such as product launches, earnings reports, or other corporate announcements.\n",
      "\n",
      "Steps to proceed:\n",
      "\n",
      "1. **Retrieve the Historical Data**:\n",
      "   - Use a Python library like `yfinance` to get the historical stock prices for Nvidia.\n",
      "   - Process this data to compute the relevant statistics (max, min, average, change).\n",
      "\n",
      "2. **Assess Market Trends**:\n",
      "   - If desired, obtain the historical data for a major market index for the same period and calculate similar statistical measures.\n",
      "\n",
      "3. **Gather Relevant News**:\n",
      "   - Use a news API to fetch important news regarding Nvidia in the last month.\n",
      "\n",
      "4. **Draft the Blog Post**:\n",
      "   - Use the information gathered and analyzed to write a comprehensive blog post.\n",
      "\n",
      "Please begin with Step 1 by collecting historical stock prices for Nvidia using Python.\n",
      "\n",
      "--------------------------------------------------------------------------------\n",
      "\u001b[33mEngineer\u001b[0m (to chat_manager):\n",
      "\n",
      "Please execute the following Python script to retrieve the historical stock prices for Nvidia from March 23, 2024, to April 23, 2024. This script utilizes the `yfinance` library, so make sure it's installed in your Python environment or you can install it using `pip install yfinance` before running the script.\n",
      "\n",
      "```python\n",
      "# filename: fetch_nvidia_stock_data.py\n",
      "import yfinance as yf\n",
      "import pandas as pd\n",
      "\n",
      "# Define the ticker symbol for Nvidia\n",
      "ticker_symbol = \"NVDA\"\n",
      "\n",
      "# Define the start and end dates for the past month\n",
      "start_date = \"2024-03-23\"\n",
      "end_date = \"2024-04-23\"\n",
      "\n",
      "# Fetch historical stock data for Nvidia\n",
      "nvidia_data = yf.download(ticker_symbol, start=start_date, end=end_date)\n",
      "\n",
      "# Selecting only the 'Close' column which represents the daily closing stock prices\n",
      "nvidia_closing_prices = nvidia_data['Close']\n",
      "\n",
      "# Printing the closing prices for review\n",
      "print(nvidia_closing_prices)\n",
      "```\n",
      "\n",
      "This code will print out the daily closing prices for Nvidia's stock between March 23, 2024, and April 23, 2024. Please execute the script, and then return with the output.\n",
      "\n",
      "\n",
      "--------------------------------------------------------------------------------\n",
      "\u001b[31m\n",
      ">>>>>>>> EXECUTING CODE BLOCK 0 (inferred language is python)...\u001b[0m\n",
      "\u001b[33mExecutor\u001b[0m (to chat_manager):\n",
      "\n",
      "exitcode: 0 (execution succeeded)\n",
      "Code output: \n",
      "Series([], Name: Close, dtype: float64)\n",
      "\n",
      "\n",
      "--------------------------------------------------------------------------------\n",
      "\u001b[31m\n",
      ">>>>>>>> USING AUTO REPLY...\u001b[0m\n",
      "\u001b[33mPlanner\u001b[0m (to chat_manager):\n",
      "\n",
      "It appears that there is no available historical stock price data for Nvidia for the specified date range as the output is empty. This might be due to several reasons including data access limitations or the dataset not being updated in real-time in certain APIs.\n",
      "\n",
      "As a workaround, we can either:\n",
      "\n",
      "1. **Adjust the Date Range**: Try adjusting the date range slightly backward or forward to confirm if there is any available data surrounding those dates.\n",
      "2. **Try an Alternative Data Source**: If possible, use another financial data provider or API to check if they have the relevant stock price data for Nvidia for the requested time period.\n",
      "\n",
      "Could you please try one of these options and see if we can retrieve the necessary data? Adjusting the date range or using an alternative data source should help us proceed with the task.\n",
      "\n",
      "--------------------------------------------------------------------------------\n",
      "\u001b[33mEngineer\u001b[0m (to chat_manager):\n",
      "\n",
      "Let's proceed with adjusting the date range and attempting to fetch data once again. This could help us ascertain if the absence of data was due to the specific time period requested initially or a broader issue with data availability. \n",
      "\n",
      "Please execute the modified Python script below, which requests data from a slightly earlier period. If data is still not accessible, this might indicate a need to explore alternative sources or methods.\n",
      "\n",
      "```python\n",
      "# filename: fetch_adjusted_nvidia_stock_data.py\n",
      "import yfinance as yf\n",
      "import pandas as pd\n",
      "\n",
      "# Define the ticker symbol for Nvidia\n",
      "ticker_symbol = \"NVDA\"\n",
      "\n",
      "# Adjust the start and end dates to check for data availability\n",
      "start_date = \"2024-03-20\"\n",
      "end_date = \"2024-04-20\"\n",
      "\n",
      "# Fetch historical stock data for Nvidia\n",
      "nvidia_data = yf.download(ticker_symbol, start=start_date, end=end_date)\n",
      "\n",
      "# Selecting only the 'Close' column which represents the daily closing stock prices\n",
      "nvidia_closing_prices = nvidia_data['Close']\n",
      "\n",
      "# Printing the closing prices for review\n",
      "print(nvidia_closing_prices)\n",
      "```\n",
      "\n",
      "This code attempts to fetch and print the closing prices of Nvidia's stock from March 20, 2024, to April 20, 2024. Please run the script and provide the output.\n",
      "\n",
      "--------------------------------------------------------------------------------\n",
      "\u001b[31m\n",
      ">>>>>>>> EXECUTING CODE BLOCK 0 (inferred language is python)...\u001b[0m\n",
      "\u001b[33mExecutor\u001b[0m (to chat_manager):\n",
      "\n",
      "exitcode: 0 (execution succeeded)\n",
      "Code output: \n",
      "Series([], Name: Close, dtype: float64)\n",
      "\n",
      "\n",
      "--------------------------------------------------------------------------------\n",
      "\u001b[31m\n",
      ">>>>>>>> USING AUTO REPLY...\u001b[0m\n",
      "\u001b[33mPlanner\u001b[0m (to chat_manager):\n",
      "\n",
      "The absence of data for Nvidia stock prices persists even after adjusting the date range. This suggests that the issue might be related to the data availability in the `yfinance` API for this specific time period or it might be experiencing delays in updating the database for new dates.\n",
      "\n",
      "To continue with the task of analyzing Nvidia's stock performance for the blog post, let's consider using an alternative data source. Here are a few options:\n",
      "\n",
      "1. **Alpha Vantage**: This is another stock market data API that could have the necessary data.\n",
      "2. **Quandl**: Known for financial, economic, and alternative datasets.\n",
      "3. **Other Financial Data Providers**: Such as Bloomberg, Google Finance (limited to personal use), or IEX Cloud, depending on access and APIs available.\n",
      "\n",
      "Please attempt to access Nvidia's stock data using one of these alternatives or any other reliable financial data source you have access to. Adjust your steps accordingly depending on the new data source interface and check back with the acquired data.\n",
      "\n",
      "--------------------------------------------------------------------------------\n",
      "\u001b[33mEngineer\u001b[0m (to chat_manager):\n",
      "\n",
      "Unfortunately, as I cannot directly access the web or external databases, my assistance is limited to advising the process. Here's a plan you can follow using another data provider, specifically focusing on Alpha Vantage, which is widely used and provides comprehensive financial data through a well-documented API. \n",
      "\n",
      "### Instructions for Using Alpha Vantage to Fetch Nvidia's Stock Data:\n",
      "\n",
      "1. **Sign Up and API Key**:\n",
      "   - Visit the Alpha Vantage website and sign up for a free API key if you haven't already.\n",
      "\n",
      "2. **Install Alpha Vantage Python Client**:\n",
      "   - Install the Python client for Alpha Vantage by running `pip install alpha_vantage`.\n",
      "\n",
      "3. **Write and Execute a Python Script**:\n",
      "   - Use the following Python code to fetch the stock data. Replace `'YOUR_API_KEY'` with your actual Alpha Vantage API key.\n",
      "\n",
      "```python\n",
      "# filename: fetch_nvidia_alpha_vantage.py\n",
      "from alpha_vantage.timeseries import TimeSeries\n",
      "import pandas as pd\n",
      "\n",
      "# Initialize TimeSeries with your Alpha Vantage API Key\n",
      "ts = TimeSeries(key='YOUR_API_KEY', output_format='pandas')\n",
      "\n",
      "# Define the ticker symbol for Nvidia\n",
      "ticker_symbol = \"NVDA\"\n",
      "\n",
      "# Get the daily stock data\n",
      "data, meta_data = ts.get_daily(symbol=ticker_symbol, outputsize='full')\n",
      "\n",
      "# Select data from the last month\n",
      "recent_data = data['2024-03-23':'2024-04-23']['4. close']  # Adjust dates if necessary\n",
      "\n",
      "# Print the recent closing prices\n",
      "print(recent_data)\n",
      "```\n",
      "\n",
      "4. **Check Output and Proceed**:\n",
      "   - Execute the provided Python script to retrieve and print Nvidia's stock data within the desired date range.\n",
      "   - Based on the data retrieved, you can then proceed to perform any statistical analysis and craft the blog post as initially planned.\n",
      "\n",
      "Please proceed with these instructions to attempt to retrieve the Nvidia stock data using Alpha Vantage. Once you have the data, you can analyze trends and any other specific details needed for the blog post. If issues persist with this method, it might be beneficial to consider even broader changes or seeking help from those with access to commercial financial data services.\n",
      "\n"
     ]
    },
    {
     "name": "stdout",
     "output_type": "stream",
     "text": [
      "\n",
      "--------------------------------------------------------------------------------\n",
      "Provide feedback to chat_manager. Press enter to skip and use auto-reply, or type 'exit' to end the conversation: \n",
      "\u001b[31m\n",
      ">>>>>>>> NO HUMAN INPUT RECEIVED.\u001b[0m\n",
      "\u001b[31m\n",
      ">>>>>>>> USING AUTO REPLY...\u001b[0m\n",
      "\u001b[33mAdmin\u001b[0m (to chat_manager):\n",
      "\n",
      "It appears that you've successfully planned the next steps to access Nvidia's historical stock data using an alternative approach with Alpha Vantage. Once you follow the engineer's instructions to fetch the stock data using Alpha Vantage API, you're set to proceed with analyzing the data.\n",
      "\n",
      "Here's a reminder of the steps you need to take after retrieving the stock data:\n",
      "\n",
      "1. **Analyze the Data**: \n",
      "   - Calculate the percentage change, maximum, minimum, and average closing prices of Nvidia's stock during the specified period.\n",
      "   - Identify any significant movements or trends in the stock prices.\n",
      "\n",
      "2. **Contextualize the Data with Market Trends**:\n",
      "   - Optionally, you might want to compare Nvidia's performance with major market indices or similar companies to draw broader insights about its performance.\n",
      "\n",
      "3. **Incorporate Relevant News or Events**:\n",
      "   - Link the stock price movements with relevant news events, new product launches, earnings reports, or regulatory changes that might have impacted Nvidia's stock value.\n",
      "\n",
      "4. **Draft the Blog Post**:\n",
      "   - Summarize your findings in a structured blog post.\n",
      "   - Include an introduction, a detailed analysis with supporting data, and a conclusion with forward-looking statements based on your analysis.\n",
      "\n",
      "5. **Review and Publish**:\n",
      "   - Revise your draft to ensure accuracy and clarity.\n",
      "   - Include visual aids such as charts or graphs to enhance comprehension and appeal.\n",
      "   - Once reviewed, you can publish your blog post.\n",
      "\n",
      "These steps should guide you in creating a comprehensive and informative blog post about Nvidia's stock price performance over the past month. Best of luck with your analysis and writing!\n",
      "\n",
      "--------------------------------------------------------------------------------\n"
     ]
    }
   ],
   "source": [
    "manager = autogen.GroupChatManager(\n",
    "    groupchat=groupchat, llm_config=llm_config\n",
    ")\n",
    "\n",
    "groupchat_result = user_proxy.initiate_chat(\n",
    "    manager,\n",
    "    message=task,\n",
    ")"
   ]
  },
  {
   "cell_type": "markdown",
   "id": "0c82a9a4",
   "metadata": {
    "height": 30
   },
   "source": [
    "Although, we added some constraints, the overall task completion is non-linear. It still keeps the flexibility of having some agent back and forth and chiming in when they need to. So more flexibility than sequential chat.\n"
   ]
  },
  {
   "cell_type": "markdown",
   "id": "e738fd8b",
   "metadata": {},
   "source": [
    "**Note**: You might experience slightly different interactions between the agents. The engineer agent may write incorrect code, which the executor agent will report and send back for correction. This process could go through multiple rounds."
   ]
  }
 ],
 "metadata": {
  "kernelspec": {
   "display_name": "Python 3 (ipykernel)",
   "language": "python",
   "name": "python3"
  },
  "language_info": {
   "codemirror_mode": {
    "name": "ipython",
    "version": 3
   },
   "file_extension": ".py",
   "mimetype": "text/x-python",
   "name": "python",
   "nbconvert_exporter": "python",
   "pygments_lexer": "ipython3",
   "version": "3.11.9"
  }
 },
 "nbformat": 4,
 "nbformat_minor": 5
}
